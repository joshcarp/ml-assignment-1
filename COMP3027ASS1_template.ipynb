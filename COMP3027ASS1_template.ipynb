{
 "cells": [
  {
   "cell_type": "markdown",
   "metadata": {},
   "source": [
    "### The University of Melbourne, School of Computing and Information Systems\n",
    "# COMP30027 Machine Learning, 2022 Semester 1\n",
    "\n",
    "## Assignment 1: Naive Bayes Leaner for Adult Database\n"
   ]
  },
  {
   "cell_type": "markdown",
   "metadata": {},
   "source": [
    "**Student Name(s):** `PLEASE ENTER YOUR NAME(S) HERE`\n",
    "<br>\n",
    "**Student ID(s):** `PLEASE ENTER YOUR ID(S) HERE`"
   ]
  },
  {
   "cell_type": "markdown",
   "metadata": {},
   "source": [
    "\n",
    "\n",
    "Marking will be applied on the four functions that are defined in this notebook, and to your responses to the questions at the end of this notebook.\n",
    "\n",
    "## General info\n",
    "\n",
    "<b>Due date</b>: Friday, 8 April 2022 7pm\n",
    "\n",
    "<b>Submission method</b>: Canvas submission\n",
    "\n",
    "<b>Submission materials</b>: This iPython notebook is a template which you will use for your Assignment 1 submission. You need to only submitted the completed copy of this iPython notebook.\n",
    "\n",
    "<b>Late submissions</b>: -10% per day up to 5 days (both weekdays and weekends count). Submissions more than 5 days late will not be accepted (resul in a mark of 0).\n",
    "<ul>\n",
    "    <li>one day late, -1.0;</li>\n",
    "    <li>two days late, -2.0;</li>\n",
    "    <li>three days late, -3.0;</li>\n",
    "    <li>four days late, -4.0;</li>\n",
    "    <li>five days late, -5.0;</li>\n",
    "</ul>\n",
    "\n",
    "<b>Extensions</b>: Students who are demonstrably unable to submit a full solution in time due to medical reasons or other trauma, may apply for an extension.  In these cases, you should email <a href=\"mailto:ni.ding@unimelb.edu.au\">Ni Ding</a> as soon as possible after those circumstances arise. If you attend a GP or other health care service as a result of illness, be sure to provide a Health Professional Report (HPR) form (get it from the Special Consideration section of the Student Portal), you will need this form to be filled out if your illness develops into something that later requires a Special Consideration application to be lodged. You should scan the HPR form and send it with the extension requests.\n",
    "\n",
    "<b>Marks</b>: This assignment will be marked out of 20, and make up 20% of your overall mark for this subject.\n",
    "\n",
    "<b>Materials</b>: Use Jupyter Notebook and Python page on Canvas for information on the basic setup required for this class, including an iPython notebook viewer and the python packages NLTK, Numpy, Scipy, Matplotlib, Scikit-Learn. You can use any Python built-in packages, but do not use any other 3rd party packages; if your iPython notebook doesn't run on the marker's machine, you will lose marks. <b> You should use Python 3</b>.  \n",
    "\n",
    "\n",
    "<b>Evaluation</b>: Your iPython notebook should run end-to-end without any errors in a reasonable amount of time, and you must follow all instructions provided below, including specific implementation requirements and instructions for what needs to be printed (please avoid printing output we don't ask for). You should edit the sections below where requested, but leave the rest of the code as is. You should leave the output from running your code in the iPython notebook you submit, to assist with marking. The amount each section is worth is given in parenthesis after the instructions. \n",
    "\n",
    "You will be marked not only on the correctness of your methods, but also the quality and efficency of your code: in particular, you should be careful to use Python built-in functions and operators when appropriate and pick descriptive variable names that adhere to <a href=\"https://www.python.org/dev/peps/pep-0008/\">Python style requirements</a>. If you think it might be unclear what you are doing, you should comment your code to help the marker make sense of it. We reserve the right to deduct up to 2 marks for unreadable or exessively inefficient code.\n",
    "\n",
    "8 of the marks available for this Project will be assigned to whether the four specified Python functions work in a manner consistent with the materials from COMP30027. Any other implementation will not be directly assessed (except insofar as it is required to make these five functions work correctly).\n",
    "\n",
    "12 of the marks will be assigned to your responses to the questions, in terms of both accuracy and insightfulness. We will be looking for evidence that you have an implementation that allows you to explore the problem, but also that you have thought deeply about the data and the behaviour of the Naive Bayes classifier.\n",
    "\n",
    "<b>Updates</b>: Any major changes to the assignment will be announced via Canvas. Minor changes and clarifications will be announced on the discussion board (ED -> Assignments -> A1); we recommend you check it regularly.\n",
    "\n",
    "<b>Academic misconduct</b>: For most people, collaboration will form a natural part of the undertaking of this homework, and we encourge you to discuss it in general terms with other students. However, this ultimately is still an individual task, and so reuse of code or other instances of clear influence will be considered cheating. Please check the <a href=\"https://canvas.lms.unimelb.edu.au/courses/124196/modules#module_662096\">CIS Academic Honesty training</a> for more information. We will be checking submissions for originality and will invoke the University’s <a href=\"http://academichonesty.unimelb.edu.au/policy.html\">Academic Misconduct policy</a> where inappropriate levels of collusion or plagiarism are deemed to have taken place.\n",
    "\n",
    "**IMPORTANT**\n",
    "\n",
    "Please carefully read and fill out the <b>Authorship Declaration</b> form at the bottom of the page. Failure to fill out this form results in the following deductions: \n",
    "<UL TYPE=”square”>\n",
    "<LI>missing Authorship Declaration at the bottom of the page, -5.0\n",
    "<LI>incomplete or unsigned Authorship Declaration at the bottom of the page, -3.0\n",
    "</UL>\n",
    "**NOTE: COMPLETE AND SUBMIT THIS FILE. YOU SHOULD IMPLEMENT FOUR FUNCTIONS AND INCLUDE YOUR ANSWERS TO THE QUESTIONS IN THIS FILE ONLY. NO OTHER SUBMISSION IS REQUIRED.**\n",
    "\n",
    "**Keep your code clean. Adding proper comments to your code is MANDATORY.**"
   ]
  },
  {
   "cell_type": "markdown",
   "metadata": {},
   "source": [
    "## Part 1: Base code [8 marks]\n",
    "\n",
    "Instructions\n",
    "1. Do **not** shuffle the data set\n",
    "2. Treat the attributes as they are(e.g., do **not** convert numeric attributes to categorical or categorical to numeric). Implement a Naive Bayes classifier with appropriate likelihood function for each attribute.\n",
    "3. You should implement the Naive Bayes classifier from scratch. Do **not** use existing implementations/learning algorithms.\n",
    "4. You CANNOT have more than one train or predict function. Both continuous numeric attributes and categorical ones should be trained in one `train()` function, similarly for the `predict()`.  \n",
    "5. Apart from the instructions in point 3, you may use libraries to help you with data reading, representation, maths or evaluation\n",
    "6. Ensure that all and only required information is printed, as indicated in the final three code cells. Failure to adhere to print the required information will result in **[-1 mark]** per case. *(We don't mind details like you print a list or several numbers -- just make sure the information is displayed so that it's easily accessible)\n",
    "7. You may change the prototypes of these functions, and you may write other functions, according to your requirements. We would appreciate it if the required functions were prominent/easy to find. \n",
    "8. You should add adequate comments to make your code easily comprehendible.*"
   ]
  },
  {
   "cell_type": "code",
   "execution_count": 53,
   "metadata": {},
   "outputs": [],
   "source": [
    "# This function should prepare the data by reading it from a file and converting it into a useful format for training and testing\n",
    "# and implement 90-10 splitting as specified in the project description.\n",
    "import pandas as pd\n",
    "from sklearn.metrics import confusion_matrix\n",
    "from sklearn.model_selection import train_test_split\n",
    "from sklearn.naive_bayes import GaussianNB\n",
    "from sklearn.svm import LinearSVC\n",
    "\n",
    "\n",
    "def preprocess(filename: str) -> [pd.DataFrame,\n",
    "                                  pd.DataFrame,\n",
    "                                  pd.Series,\n",
    "                                  pd.Series]:\n",
    "    data: pd.DataFrame = pd.read_csv(filename)\n",
    "    # column_to_vals: {str: {}} = {}\n",
    "    # column_to_vals_discrete: {str: {str: int}} = {}\n",
    "    # for column in data:\n",
    "    #     column_to_vals[column] = {elem for elem in data[column]}\n",
    "    # for column, val in column_to_vals.items():\n",
    "    #     numeric = True\n",
    "    #     for elem in val:\n",
    "    #         if type(elem) != int and type(elem) != float:\n",
    "    #             numeric = False\n",
    "    #     if numeric:\n",
    "    #         column_to_vals_discrete[column] = {x: x for x in val}\n",
    "    #     else:\n",
    "    #         column_to_vals_discrete[column] = {e: i for i, e in enumerate(val)}\n",
    "    #\n",
    "    #\n",
    "    # for column in data:\n",
    "    #     data[column] = data[column].map(column_to_vals_discrete[column])\n",
    "\n",
    "    y = data.pop(\"label\")\n",
    "    return train_test_split(data, y, test_size=0.1)\n",
    "\n",
    "\n",
    "X_train, X_test, y_train, y_test = preprocess(\"adult.csv\")\n"
   ]
  },
  {
   "cell_type": "code",
   "execution_count": 54,
   "outputs": [
    {
     "ename": "ValueError",
     "evalue": "could not convert string to float: ' ?'",
     "output_type": "error",
     "traceback": [
      "\u001B[0;31m---------------------------------------------------------------------------\u001B[0m",
      "\u001B[0;31mValueError\u001B[0m                                Traceback (most recent call last)",
      "Input \u001B[0;32mIn [54]\u001B[0m, in \u001B[0;36m<cell line: 3>\u001B[0;34m()\u001B[0m\n\u001B[1;32m      1\u001B[0m \u001B[38;5;66;03m# sklearn, only for comparison to custom implementations, not to be used for assessement\u001B[39;00m\n\u001B[1;32m      2\u001B[0m gnb \u001B[38;5;241m=\u001B[39m GaussianNB()\n\u001B[0;32m----> 3\u001B[0m y_pred \u001B[38;5;241m=\u001B[39m \u001B[43mgnb\u001B[49m\u001B[38;5;241;43m.\u001B[39;49m\u001B[43mfit\u001B[49m\u001B[43m(\u001B[49m\u001B[43mX_train\u001B[49m\u001B[43m,\u001B[49m\u001B[43m \u001B[49m\u001B[43my_train\u001B[49m\u001B[43m)\u001B[49m\u001B[38;5;241m.\u001B[39mpredict(X_test)\n\u001B[1;32m      4\u001B[0m \u001B[38;5;66;03m# for i, e in enumerate(y_test):\u001B[39;00m\n\u001B[1;32m      5\u001B[0m \u001B[38;5;66;03m#     print(y_pred[i], \"vs\", e)\u001B[39;00m\n\u001B[1;32m      7\u001B[0m linear_svc \u001B[38;5;241m=\u001B[39m LinearSVC(random_state\u001B[38;5;241m=\u001B[39m\u001B[38;5;241m1\u001B[39m, C\u001B[38;5;241m=\u001B[39m\u001B[38;5;241m0.1\u001B[39m)\n",
      "File \u001B[0;32m/Library/Frameworks/Python.framework/Versions/3.8/lib/python3.8/site-packages/sklearn/naive_bayes.py:245\u001B[0m, in \u001B[0;36mGaussianNB.fit\u001B[0;34m(self, X, y, sample_weight)\u001B[0m\n\u001B[1;32m    222\u001B[0m \u001B[38;5;124;03m\"\"\"Fit Gaussian Naive Bayes according to X, y.\u001B[39;00m\n\u001B[1;32m    223\u001B[0m \n\u001B[1;32m    224\u001B[0m \u001B[38;5;124;03mParameters\u001B[39;00m\n\u001B[0;32m   (...)\u001B[0m\n\u001B[1;32m    242\u001B[0m \u001B[38;5;124;03m    Returns the instance itself.\u001B[39;00m\n\u001B[1;32m    243\u001B[0m \u001B[38;5;124;03m\"\"\"\u001B[39;00m\n\u001B[1;32m    244\u001B[0m y \u001B[38;5;241m=\u001B[39m \u001B[38;5;28mself\u001B[39m\u001B[38;5;241m.\u001B[39m_validate_data(y\u001B[38;5;241m=\u001B[39my)\n\u001B[0;32m--> 245\u001B[0m \u001B[38;5;28;01mreturn\u001B[39;00m \u001B[38;5;28;43mself\u001B[39;49m\u001B[38;5;241;43m.\u001B[39;49m\u001B[43m_partial_fit\u001B[49m\u001B[43m(\u001B[49m\n\u001B[1;32m    246\u001B[0m \u001B[43m    \u001B[49m\u001B[43mX\u001B[49m\u001B[43m,\u001B[49m\u001B[43m \u001B[49m\u001B[43my\u001B[49m\u001B[43m,\u001B[49m\u001B[43m \u001B[49m\u001B[43mnp\u001B[49m\u001B[38;5;241;43m.\u001B[39;49m\u001B[43munique\u001B[49m\u001B[43m(\u001B[49m\u001B[43my\u001B[49m\u001B[43m)\u001B[49m\u001B[43m,\u001B[49m\u001B[43m \u001B[49m\u001B[43m_refit\u001B[49m\u001B[38;5;241;43m=\u001B[39;49m\u001B[38;5;28;43;01mTrue\u001B[39;49;00m\u001B[43m,\u001B[49m\u001B[43m \u001B[49m\u001B[43msample_weight\u001B[49m\u001B[38;5;241;43m=\u001B[39;49m\u001B[43msample_weight\u001B[49m\n\u001B[1;32m    247\u001B[0m \u001B[43m\u001B[49m\u001B[43m)\u001B[49m\n",
      "File \u001B[0;32m/Library/Frameworks/Python.framework/Versions/3.8/lib/python3.8/site-packages/sklearn/naive_bayes.py:402\u001B[0m, in \u001B[0;36mGaussianNB._partial_fit\u001B[0;34m(self, X, y, classes, _refit, sample_weight)\u001B[0m\n\u001B[1;32m    399\u001B[0m     \u001B[38;5;28mself\u001B[39m\u001B[38;5;241m.\u001B[39mclasses_ \u001B[38;5;241m=\u001B[39m \u001B[38;5;28;01mNone\u001B[39;00m\n\u001B[1;32m    401\u001B[0m first_call \u001B[38;5;241m=\u001B[39m _check_partial_fit_first_call(\u001B[38;5;28mself\u001B[39m, classes)\n\u001B[0;32m--> 402\u001B[0m X, y \u001B[38;5;241m=\u001B[39m \u001B[38;5;28;43mself\u001B[39;49m\u001B[38;5;241;43m.\u001B[39;49m\u001B[43m_validate_data\u001B[49m\u001B[43m(\u001B[49m\u001B[43mX\u001B[49m\u001B[43m,\u001B[49m\u001B[43m \u001B[49m\u001B[43my\u001B[49m\u001B[43m,\u001B[49m\u001B[43m \u001B[49m\u001B[43mreset\u001B[49m\u001B[38;5;241;43m=\u001B[39;49m\u001B[43mfirst_call\u001B[49m\u001B[43m)\u001B[49m\n\u001B[1;32m    403\u001B[0m \u001B[38;5;28;01mif\u001B[39;00m sample_weight \u001B[38;5;129;01mis\u001B[39;00m \u001B[38;5;129;01mnot\u001B[39;00m \u001B[38;5;28;01mNone\u001B[39;00m:\n\u001B[1;32m    404\u001B[0m     sample_weight \u001B[38;5;241m=\u001B[39m _check_sample_weight(sample_weight, X)\n",
      "File \u001B[0;32m/Library/Frameworks/Python.framework/Versions/3.8/lib/python3.8/site-packages/sklearn/base.py:581\u001B[0m, in \u001B[0;36mBaseEstimator._validate_data\u001B[0;34m(self, X, y, reset, validate_separately, **check_params)\u001B[0m\n\u001B[1;32m    579\u001B[0m         y \u001B[38;5;241m=\u001B[39m check_array(y, \u001B[38;5;241m*\u001B[39m\u001B[38;5;241m*\u001B[39mcheck_y_params)\n\u001B[1;32m    580\u001B[0m     \u001B[38;5;28;01melse\u001B[39;00m:\n\u001B[0;32m--> 581\u001B[0m         X, y \u001B[38;5;241m=\u001B[39m \u001B[43mcheck_X_y\u001B[49m\u001B[43m(\u001B[49m\u001B[43mX\u001B[49m\u001B[43m,\u001B[49m\u001B[43m \u001B[49m\u001B[43my\u001B[49m\u001B[43m,\u001B[49m\u001B[43m \u001B[49m\u001B[38;5;241;43m*\u001B[39;49m\u001B[38;5;241;43m*\u001B[39;49m\u001B[43mcheck_params\u001B[49m\u001B[43m)\u001B[49m\n\u001B[1;32m    582\u001B[0m     out \u001B[38;5;241m=\u001B[39m X, y\n\u001B[1;32m    584\u001B[0m \u001B[38;5;28;01mif\u001B[39;00m \u001B[38;5;129;01mnot\u001B[39;00m no_val_X \u001B[38;5;129;01mand\u001B[39;00m check_params\u001B[38;5;241m.\u001B[39mget(\u001B[38;5;124m\"\u001B[39m\u001B[38;5;124mensure_2d\u001B[39m\u001B[38;5;124m\"\u001B[39m, \u001B[38;5;28;01mTrue\u001B[39;00m):\n",
      "File \u001B[0;32m/Library/Frameworks/Python.framework/Versions/3.8/lib/python3.8/site-packages/sklearn/utils/validation.py:964\u001B[0m, in \u001B[0;36mcheck_X_y\u001B[0;34m(X, y, accept_sparse, accept_large_sparse, dtype, order, copy, force_all_finite, ensure_2d, allow_nd, multi_output, ensure_min_samples, ensure_min_features, y_numeric, estimator)\u001B[0m\n\u001B[1;32m    961\u001B[0m \u001B[38;5;28;01mif\u001B[39;00m y \u001B[38;5;129;01mis\u001B[39;00m \u001B[38;5;28;01mNone\u001B[39;00m:\n\u001B[1;32m    962\u001B[0m     \u001B[38;5;28;01mraise\u001B[39;00m \u001B[38;5;167;01mValueError\u001B[39;00m(\u001B[38;5;124m\"\u001B[39m\u001B[38;5;124my cannot be None\u001B[39m\u001B[38;5;124m\"\u001B[39m)\n\u001B[0;32m--> 964\u001B[0m X \u001B[38;5;241m=\u001B[39m \u001B[43mcheck_array\u001B[49m\u001B[43m(\u001B[49m\n\u001B[1;32m    965\u001B[0m \u001B[43m    \u001B[49m\u001B[43mX\u001B[49m\u001B[43m,\u001B[49m\n\u001B[1;32m    966\u001B[0m \u001B[43m    \u001B[49m\u001B[43maccept_sparse\u001B[49m\u001B[38;5;241;43m=\u001B[39;49m\u001B[43maccept_sparse\u001B[49m\u001B[43m,\u001B[49m\n\u001B[1;32m    967\u001B[0m \u001B[43m    \u001B[49m\u001B[43maccept_large_sparse\u001B[49m\u001B[38;5;241;43m=\u001B[39;49m\u001B[43maccept_large_sparse\u001B[49m\u001B[43m,\u001B[49m\n\u001B[1;32m    968\u001B[0m \u001B[43m    \u001B[49m\u001B[43mdtype\u001B[49m\u001B[38;5;241;43m=\u001B[39;49m\u001B[43mdtype\u001B[49m\u001B[43m,\u001B[49m\n\u001B[1;32m    969\u001B[0m \u001B[43m    \u001B[49m\u001B[43morder\u001B[49m\u001B[38;5;241;43m=\u001B[39;49m\u001B[43morder\u001B[49m\u001B[43m,\u001B[49m\n\u001B[1;32m    970\u001B[0m \u001B[43m    \u001B[49m\u001B[43mcopy\u001B[49m\u001B[38;5;241;43m=\u001B[39;49m\u001B[43mcopy\u001B[49m\u001B[43m,\u001B[49m\n\u001B[1;32m    971\u001B[0m \u001B[43m    \u001B[49m\u001B[43mforce_all_finite\u001B[49m\u001B[38;5;241;43m=\u001B[39;49m\u001B[43mforce_all_finite\u001B[49m\u001B[43m,\u001B[49m\n\u001B[1;32m    972\u001B[0m \u001B[43m    \u001B[49m\u001B[43mensure_2d\u001B[49m\u001B[38;5;241;43m=\u001B[39;49m\u001B[43mensure_2d\u001B[49m\u001B[43m,\u001B[49m\n\u001B[1;32m    973\u001B[0m \u001B[43m    \u001B[49m\u001B[43mallow_nd\u001B[49m\u001B[38;5;241;43m=\u001B[39;49m\u001B[43mallow_nd\u001B[49m\u001B[43m,\u001B[49m\n\u001B[1;32m    974\u001B[0m \u001B[43m    \u001B[49m\u001B[43mensure_min_samples\u001B[49m\u001B[38;5;241;43m=\u001B[39;49m\u001B[43mensure_min_samples\u001B[49m\u001B[43m,\u001B[49m\n\u001B[1;32m    975\u001B[0m \u001B[43m    \u001B[49m\u001B[43mensure_min_features\u001B[49m\u001B[38;5;241;43m=\u001B[39;49m\u001B[43mensure_min_features\u001B[49m\u001B[43m,\u001B[49m\n\u001B[1;32m    976\u001B[0m \u001B[43m    \u001B[49m\u001B[43mestimator\u001B[49m\u001B[38;5;241;43m=\u001B[39;49m\u001B[43mestimator\u001B[49m\u001B[43m,\u001B[49m\n\u001B[1;32m    977\u001B[0m \u001B[43m\u001B[49m\u001B[43m)\u001B[49m\n\u001B[1;32m    979\u001B[0m y \u001B[38;5;241m=\u001B[39m _check_y(y, multi_output\u001B[38;5;241m=\u001B[39mmulti_output, y_numeric\u001B[38;5;241m=\u001B[39my_numeric)\n\u001B[1;32m    981\u001B[0m check_consistent_length(X, y)\n",
      "File \u001B[0;32m/Library/Frameworks/Python.framework/Versions/3.8/lib/python3.8/site-packages/sklearn/utils/validation.py:746\u001B[0m, in \u001B[0;36mcheck_array\u001B[0;34m(array, accept_sparse, accept_large_sparse, dtype, order, copy, force_all_finite, ensure_2d, allow_nd, ensure_min_samples, ensure_min_features, estimator)\u001B[0m\n\u001B[1;32m    744\u001B[0m         array \u001B[38;5;241m=\u001B[39m array\u001B[38;5;241m.\u001B[39mastype(dtype, casting\u001B[38;5;241m=\u001B[39m\u001B[38;5;124m\"\u001B[39m\u001B[38;5;124munsafe\u001B[39m\u001B[38;5;124m\"\u001B[39m, copy\u001B[38;5;241m=\u001B[39m\u001B[38;5;28;01mFalse\u001B[39;00m)\n\u001B[1;32m    745\u001B[0m     \u001B[38;5;28;01melse\u001B[39;00m:\n\u001B[0;32m--> 746\u001B[0m         array \u001B[38;5;241m=\u001B[39m \u001B[43mnp\u001B[49m\u001B[38;5;241;43m.\u001B[39;49m\u001B[43masarray\u001B[49m\u001B[43m(\u001B[49m\u001B[43marray\u001B[49m\u001B[43m,\u001B[49m\u001B[43m \u001B[49m\u001B[43morder\u001B[49m\u001B[38;5;241;43m=\u001B[39;49m\u001B[43morder\u001B[49m\u001B[43m,\u001B[49m\u001B[43m \u001B[49m\u001B[43mdtype\u001B[49m\u001B[38;5;241;43m=\u001B[39;49m\u001B[43mdtype\u001B[49m\u001B[43m)\u001B[49m\n\u001B[1;32m    747\u001B[0m \u001B[38;5;28;01mexcept\u001B[39;00m ComplexWarning \u001B[38;5;28;01mas\u001B[39;00m complex_warning:\n\u001B[1;32m    748\u001B[0m     \u001B[38;5;28;01mraise\u001B[39;00m \u001B[38;5;167;01mValueError\u001B[39;00m(\n\u001B[1;32m    749\u001B[0m         \u001B[38;5;124m\"\u001B[39m\u001B[38;5;124mComplex data not supported\u001B[39m\u001B[38;5;130;01m\\n\u001B[39;00m\u001B[38;5;132;01m{}\u001B[39;00m\u001B[38;5;130;01m\\n\u001B[39;00m\u001B[38;5;124m\"\u001B[39m\u001B[38;5;241m.\u001B[39mformat(array)\n\u001B[1;32m    750\u001B[0m     ) \u001B[38;5;28;01mfrom\u001B[39;00m \u001B[38;5;21;01mcomplex_warning\u001B[39;00m\n",
      "File \u001B[0;32m/Library/Frameworks/Python.framework/Versions/3.8/lib/python3.8/site-packages/numpy/core/_asarray.py:102\u001B[0m, in \u001B[0;36masarray\u001B[0;34m(a, dtype, order, like)\u001B[0m\n\u001B[1;32m     99\u001B[0m \u001B[38;5;28;01mif\u001B[39;00m like \u001B[38;5;129;01mis\u001B[39;00m \u001B[38;5;129;01mnot\u001B[39;00m \u001B[38;5;28;01mNone\u001B[39;00m:\n\u001B[1;32m    100\u001B[0m     \u001B[38;5;28;01mreturn\u001B[39;00m _asarray_with_like(a, dtype\u001B[38;5;241m=\u001B[39mdtype, order\u001B[38;5;241m=\u001B[39morder, like\u001B[38;5;241m=\u001B[39mlike)\n\u001B[0;32m--> 102\u001B[0m \u001B[38;5;28;01mreturn\u001B[39;00m \u001B[43marray\u001B[49m\u001B[43m(\u001B[49m\u001B[43ma\u001B[49m\u001B[43m,\u001B[49m\u001B[43m \u001B[49m\u001B[43mdtype\u001B[49m\u001B[43m,\u001B[49m\u001B[43m \u001B[49m\u001B[43mcopy\u001B[49m\u001B[38;5;241;43m=\u001B[39;49m\u001B[38;5;28;43;01mFalse\u001B[39;49;00m\u001B[43m,\u001B[49m\u001B[43m \u001B[49m\u001B[43morder\u001B[49m\u001B[38;5;241;43m=\u001B[39;49m\u001B[43morder\u001B[49m\u001B[43m)\u001B[49m\n",
      "File \u001B[0;32m/Library/Frameworks/Python.framework/Versions/3.8/lib/python3.8/site-packages/pandas/core/generic.py:2064\u001B[0m, in \u001B[0;36mNDFrame.__array__\u001B[0;34m(self, dtype)\u001B[0m\n\u001B[1;32m   2063\u001B[0m \u001B[38;5;28;01mdef\u001B[39;00m \u001B[38;5;21m__array__\u001B[39m(\u001B[38;5;28mself\u001B[39m, dtype: npt\u001B[38;5;241m.\u001B[39mDTypeLike \u001B[38;5;241m|\u001B[39m \u001B[38;5;28;01mNone\u001B[39;00m \u001B[38;5;241m=\u001B[39m \u001B[38;5;28;01mNone\u001B[39;00m) \u001B[38;5;241m-\u001B[39m\u001B[38;5;241m>\u001B[39m np\u001B[38;5;241m.\u001B[39mndarray:\n\u001B[0;32m-> 2064\u001B[0m     \u001B[38;5;28;01mreturn\u001B[39;00m \u001B[43mnp\u001B[49m\u001B[38;5;241;43m.\u001B[39;49m\u001B[43masarray\u001B[49m\u001B[43m(\u001B[49m\u001B[38;5;28;43mself\u001B[39;49m\u001B[38;5;241;43m.\u001B[39;49m\u001B[43m_values\u001B[49m\u001B[43m,\u001B[49m\u001B[43m \u001B[49m\u001B[43mdtype\u001B[49m\u001B[38;5;241;43m=\u001B[39;49m\u001B[43mdtype\u001B[49m\u001B[43m)\u001B[49m\n",
      "File \u001B[0;32m/Library/Frameworks/Python.framework/Versions/3.8/lib/python3.8/site-packages/numpy/core/_asarray.py:102\u001B[0m, in \u001B[0;36masarray\u001B[0;34m(a, dtype, order, like)\u001B[0m\n\u001B[1;32m     99\u001B[0m \u001B[38;5;28;01mif\u001B[39;00m like \u001B[38;5;129;01mis\u001B[39;00m \u001B[38;5;129;01mnot\u001B[39;00m \u001B[38;5;28;01mNone\u001B[39;00m:\n\u001B[1;32m    100\u001B[0m     \u001B[38;5;28;01mreturn\u001B[39;00m _asarray_with_like(a, dtype\u001B[38;5;241m=\u001B[39mdtype, order\u001B[38;5;241m=\u001B[39morder, like\u001B[38;5;241m=\u001B[39mlike)\n\u001B[0;32m--> 102\u001B[0m \u001B[38;5;28;01mreturn\u001B[39;00m \u001B[43marray\u001B[49m\u001B[43m(\u001B[49m\u001B[43ma\u001B[49m\u001B[43m,\u001B[49m\u001B[43m \u001B[49m\u001B[43mdtype\u001B[49m\u001B[43m,\u001B[49m\u001B[43m \u001B[49m\u001B[43mcopy\u001B[49m\u001B[38;5;241;43m=\u001B[39;49m\u001B[38;5;28;43;01mFalse\u001B[39;49;00m\u001B[43m,\u001B[49m\u001B[43m \u001B[49m\u001B[43morder\u001B[49m\u001B[38;5;241;43m=\u001B[39;49m\u001B[43morder\u001B[49m\u001B[43m)\u001B[49m\n",
      "\u001B[0;31mValueError\u001B[0m: could not convert string to float: ' ?'"
     ]
    }
   ],
   "source": [
    "# sklearn, only for comparison to custom implementations, not to be used for assessement\n",
    "gnb = GaussianNB()\n",
    "y_pred = gnb.fit(X_train, y_train).predict(X_test)\n",
    "# for i, e in enumerate(y_test):\n",
    "#     print(y_pred[i], \"vs\", e)\n",
    "\n",
    "linear_svc = LinearSVC(random_state=1, C=0.1)\n",
    "linear_svc.fit(X_train, y_train)\n",
    "\n",
    "print('Test Accuracy : %.3f' % (y_pred == y_test).mean())\n",
    "print('Test Accuracy : %.3f' % linear_svc.score(X_test, y_test))\n",
    "print('Training Accuracy : %.3f' % linear_svc.score(X_train, y_train))\n",
    "\n",
    "conf_mat = confusion_matrix(y_test, y_pred)\n",
    "print(conf_mat)\n",
    "\n",
    "print(type(X_train), type(y_train))\n"
   ],
   "metadata": {
    "collapsed": false,
    "pycharm": {
     "name": "#%%\n"
    }
   }
  },
  {
   "cell_type": "code",
   "execution_count": 87,
   "metadata": {},
   "outputs": [
    {
     "name": "stdout",
     "output_type": "stream",
     "text": [
      "({' <=50K': 0.7688888888888888, ' >50K': 0.2311111111111111}, {'age': {22: {' <=50K': 1.0}, 36: {' <=50K': 0.75, ' >50K': 0.25}, 32: {' >50K': 0.2222222222222222, ' <=50K': 0.7777777777777778}, 23: {' <=50K': 1.0}, 42: {' >50K': 0.5862068965517241, ' <=50K': 0.41379310344827586}, 44: {' >50K': 0.4666666666666667, ' <=50K': 0.5333333333333333}, 35: {' <=50K': 0.7333333333333333, ' >50K': 0.26666666666666666}, 34: {' >50K': 0.3333333333333333, ' <=50K': 0.6666666666666666}, 72: {' <=50K': 1.0}, 43: {' <=50K': 0.6285714285714286, ' >50K': 0.37142857142857144}, 19: {' <=50K': 1.0}, 24: {' <=50K': 0.9, ' >50K': 0.1}, 38: {' >50K': 0.4230769230769231, ' <=50K': 0.5769230769230769}, 30: {' <=50K': 0.7666666666666667, ' >50K': 0.23333333333333334}, 46: {' <=50K': 0.8, ' >50K': 0.2}, 29: {' <=50K': 0.8064516129032258, ' >50K': 0.1935483870967742}, 17: {' <=50K': 1.0}, 33: {' <=50K': 0.65625, ' >50K': 0.34375}, 47: {' >50K': 0.28, ' <=50K': 0.72}, 31: {' >50K': 0.25, ' <=50K': 0.75}, 41: {' >50K': 0.38461538461538464, ' <=50K': 0.6153846153846154}, 52: {' >50K': 0.4375, ' <=50K': 0.5625}, 49: {' >50K': 0.4444444444444444, ' <=50K': 0.5555555555555556}, 27: {' <=50K': 1.0}, 65: {' >50K': 0.4, ' <=50K': 0.6}, 28: {' <=50K': 0.8076923076923077, ' >50K': 0.19230769230769232}, 18: {' <=50K': 1.0}, 37: {' >50K': 0.5217391304347826, ' <=50K': 0.4782608695652174}, 21: {' <=50K': 1.0}, 56: {' <=50K': 0.5, ' >50K': 0.5}, 26: {' <=50K': 1.0}, 67: {' >50K': 0.5, ' <=50K': 0.5}, 40: {' >50K': 0.5, ' <=50K': 0.5}, 57: {' >50K': 0.5, ' <=50K': 0.5}, 60: {' <=50K': 0.5384615384615384, ' >50K': 0.46153846153846156}, 77: {' <=50K': 1.0}, 51: {' <=50K': 0.5, ' >50K': 0.5}, 70: {' <=50K': 1.0}, 20: {' <=50K': 1.0}, 39: {' <=50K': 0.75, ' >50K': 0.25}, 55: {' <=50K': 0.6666666666666666, ' >50K': 0.3333333333333333}, 48: {' <=50K': 0.5555555555555556, ' >50K': 0.4444444444444444}, 58: {' <=50K': 0.7333333333333333, ' >50K': 0.26666666666666666}, 61: {' >50K': 0.375, ' <=50K': 0.625}, 53: {' <=50K': 0.7333333333333333, ' >50K': 0.26666666666666666}, 54: {' <=50K': 0.6428571428571429, ' >50K': 0.35714285714285715}, 25: {' <=50K': 1.0}, 59: {' <=50K': 0.6428571428571429, ' >50K': 0.35714285714285715}, 63: {' <=50K': 0.7272727272727273, ' >50K': 0.2727272727272727}, 64: {' >50K': 0.4, ' <=50K': 0.6}, 45: {' <=50K': 0.7, ' >50K': 0.3}, 81: {' <=50K': 1.0}, 50: {' <=50K': 0.631578947368421, ' >50K': 0.3684210526315789}, 62: {' >50K': 0.3333333333333333, ' <=50K': 0.6666666666666666}, 74: {' <=50K': 1.0}, 76: {' >50K': 1.0}, 66: {' <=50K': 1.0}, 80: {' <=50K': 1.0}, 69: {' <=50K': 1.0}, 71: {' <=50K': 0.5714285714285714, ' >50K': 0.42857142857142855}, 73: {' <=50K': 1.0}, 68: {' <=50K': 1.0}, 78: {' <=50K': 1.0}, 79: {' <=50K': 1.0}, 90: {' <=50K': 1.0}}, 'work class': {' ?': {' <=50K': 0.9032258064516129, ' >50K': 0.0967741935483871}, ' Private': {' <=50K': 0.7818471337579618, ' >50K': 0.21815286624203822}, ' Self-emp-inc': {' >50K': 0.5454545454545454, ' <=50K': 0.45454545454545453}, ' Local-gov': {' >50K': 0.21212121212121213, ' <=50K': 0.7878787878787878}, ' Self-emp-not-inc': {' >50K': 0.26582278481012656, ' <=50K': 0.7341772151898734}, ' Federal-gov': {' >50K': 0.5217391304347826, ' <=50K': 0.4782608695652174}, ' State-gov': {' <=50K': 0.6216216216216216, ' >50K': 0.3783783783783784}}, 'education': {' Some-college': {' <=50K': 0.8472906403940886, ' >50K': 0.15270935960591134}, ' HS-grad': {' >50K': 0.16382252559726962, ' <=50K': 0.8361774744027304}, ' Bachelors': {' >50K': 0.4533333333333333, ' <=50K': 0.5466666666666666}, ' Masters': {' >50K': 0.4423076923076923, ' <=50K': 0.5576923076923077}, ' 11th': {' <=50K': 0.9130434782608695, ' >50K': 0.08695652173913043}, ' Assoc-acdm': {' <=50K': 0.7368421052631579, ' >50K': 0.2631578947368421}, ' Assoc-voc': {' <=50K': 0.7083333333333334, ' >50K': 0.2916666666666667}, ' 10th': {' <=50K': 0.875, ' >50K': 0.125}, ' 9th': {' <=50K': 1.0}, ' Doctorate': {' >50K': 0.7333333333333333, ' <=50K': 0.26666666666666666}, ' 7th-8th': {' <=50K': 0.7647058823529411, ' >50K': 0.23529411764705882}, ' 5th-6th': {' <=50K': 1.0}, ' 12th': {' >50K': 0.3076923076923077, ' <=50K': 0.6923076923076923}, ' Prof-school': {' >50K': 1.0}, ' 1st-4th': {' <=50K': 1.0}, ' Preschool': {' <=50K': 1.0}}, 'education num': {10: {' <=50K': 0.8472906403940886, ' >50K': 0.15270935960591134}, 9: {' >50K': 0.16382252559726962, ' <=50K': 0.8361774744027304}, 13: {' >50K': 0.4533333333333333, ' <=50K': 0.5466666666666666}, 14: {' >50K': 0.4423076923076923, ' <=50K': 0.5576923076923077}, 7: {' <=50K': 0.9130434782608695, ' >50K': 0.08695652173913043}, 12: {' <=50K': 0.7368421052631579, ' >50K': 0.2631578947368421}, 11: {' <=50K': 0.7083333333333334, ' >50K': 0.2916666666666667}, 6: {' <=50K': 0.875, ' >50K': 0.125}, 5: {' <=50K': 1.0}, 16: {' >50K': 0.7333333333333333, ' <=50K': 0.26666666666666666}, 4: {' <=50K': 0.7647058823529411, ' >50K': 0.23529411764705882}, 3: {' <=50K': 1.0}, 8: {' >50K': 0.3076923076923077, ' <=50K': 0.6923076923076923}, 15: {' >50K': 1.0}, 2: {' <=50K': 1.0}, 1: {' <=50K': 1.0}}, 'marital status': {' Never-married': {' <=50K': 0.9526813880126183, ' >50K': 0.0473186119873817}, ' Divorced': {' <=50K': 0.8809523809523809, ' >50K': 0.11904761904761904}, ' Married-civ-spouse': {' >50K': 0.44554455445544555, ' <=50K': 0.5544554455445545}, ' Widowed': {' <=50K': 0.8484848484848485, ' >50K': 0.15151515151515152}, ' Separated': {' <=50K': 0.8846153846153846, ' >50K': 0.11538461538461539}, ' Married-spouse-absent': {' <=50K': 1.0}, ' Married-AF-spouse': {' <=50K': 1.0}}, 'occupation': {' ?': {' <=50K': 0.9032258064516129, ' >50K': 0.0967741935483871}, ' Adm-clerical': {' <=50K': 0.8170731707317073, ' >50K': 0.18292682926829268}, ' Craft-repair': {' >50K': 0.22033898305084745, ' <=50K': 0.7796610169491526}, ' Handlers-cleaners': {' <=50K': 0.9347826086956522, ' >50K': 0.06521739130434782}, ' Sales': {' >50K': 0.2647058823529412, ' <=50K': 0.7352941176470589}, ' Protective-serv': {' <=50K': 0.631578947368421, ' >50K': 0.3684210526315789}, ' Exec-managerial': {' >50K': 0.5363636363636364, ' <=50K': 0.4636363636363636}, ' Prof-specialty': {' <=50K': 0.5897435897435898, ' >50K': 0.41025641025641024}, ' Transport-moving': {' <=50K': 0.8301886792452831, ' >50K': 0.16981132075471697}, ' Farming-fishing': {' <=50K': 0.8484848484848485, ' >50K': 0.15151515151515152}, ' Other-service': {' <=50K': 0.9351851851851852, ' >50K': 0.06481481481481481}, ' Tech-support': {' <=50K': 0.6976744186046512, ' >50K': 0.3023255813953488}, ' Machine-op-inspct': {' <=50K': 0.8363636363636363, ' >50K': 0.16363636363636364}, ' Priv-house-serv': {' <=50K': 1.0}, ' Armed-Forces': {' <=50K': 1.0}}, 'relationship': {' Own-child': {' <=50K': 0.972027972027972, ' >50K': 0.027972027972027972}, ' Unmarried': {' <=50K': 0.91, ' >50K': 0.09}, ' Husband': {' >50K': 0.4476744186046512, ' <=50K': 0.5523255813953488}, ' Wife': {' >50K': 0.4482758620689655, ' <=50K': 0.5517241379310345}, ' Not-in-family': {' <=50K': 0.9083665338645418, ' >50K': 0.09163346613545817}, ' Other-relative': {' <=50K': 0.8571428571428571, ' >50K': 0.14285714285714285}}, 'race': {' Black': {' <=50K': 0.8823529411764706, ' >50K': 0.11764705882352941}, ' White': {' >50K': 0.24611398963730569, ' <=50K': 0.7538860103626943}, ' Asian-Pac-Islander': {' >50K': 0.44, ' <=50K': 0.56}, ' Amer-Indian-Eskimo': {' <=50K': 1.0}, ' Other': {' <=50K': 0.625, ' >50K': 0.375}}, 'sex': {' Male': {' <=50K': 0.7156862745098039, ' >50K': 0.28431372549019607}, ' Female': {' <=50K': 0.8716216216216216, ' >50K': 0.12837837837837837}}, 'hours per week': {40: {' <=50K': 0.765807962529274, ' >50K': 0.234192037470726}, 7: {' <=50K': 1.0}, 35: {' >50K': 0.18421052631578946, ' <=50K': 0.8157894736842105}, 15: {' <=50K': 1.0}, 33: {' <=50K': 1.0}, 10: {' <=50K': 1.0}, 50: {' <=50K': 0.5769230769230769, ' >50K': 0.4230769230769231}, 41: {' <=50K': 1.0}, 60: {' >50K': 0.4, ' <=50K': 0.6}, 25: {' <=50K': 0.8695652173913043, ' >50K': 0.13043478260869565}, 30: {' >50K': 0.10714285714285714, ' <=50K': 0.8928571428571429}, 55: {' <=50K': 0.5555555555555556, ' >50K': 0.4444444444444444}, 8: {' <=50K': 1.0}, 24: {' >50K': 0.15789473684210525, ' <=50K': 0.8421052631578947}, 45: {' <=50K': 0.7068965517241379, ' >50K': 0.29310344827586204}, 65: {' >50K': 0.5714285714285714, ' <=50K': 0.42857142857142855}, 42: {' <=50K': 0.7058823529411765, ' >50K': 0.29411764705882354}, 70: {' >50K': 0.5, ' <=50K': 0.5}, 38: {' <=50K': 0.7142857142857143, ' >50K': 0.2857142857142857}, 20: {' <=50K': 1.0}, 22: {' <=50K': 1.0}, 48: {' >50K': 0.4666666666666667, ' <=50K': 0.5333333333333333}, 56: {' >50K': 0.375, ' <=50K': 0.625}, 2: {' <=50K': 1.0}, 47: {' >50K': 1.0}, 80: {' >50K': 0.42857142857142855, ' <=50K': 0.5714285714285714}, 36: {' >50K': 0.3333333333333333, ' <=50K': 0.6666666666666666}, 21: {' <=50K': 1.0}, 5: {' <=50K': 1.0}, 58: {' <=50K': 0.42857142857142855, ' >50K': 0.5714285714285714}, 75: {' <=50K': 1.0}, 72: {' <=50K': 1.0}, 32: {' <=50K': 1.0}, 52: {' <=50K': 1.0}, 18: {' <=50K': 1.0}, 44: {' >50K': 0.375, ' <=50K': 0.625}, 59: {' >50K': 1.0}, 9: {' <=50K': 1.0}, 26: {' >50K': 1.0}, 16: {' <=50K': 0.7272727272727273, ' >50K': 0.2727272727272727}, 64: {' <=50K': 1.0}, 99: {' >50K': 1.0}, 28: {' <=50K': 1.0}, 12: {' <=50K': 1.0}, 37: {' <=50K': 1.0}, 98: {' <=50K': 1.0}, 43: {' <=50K': 0.5714285714285714, ' >50K': 0.42857142857142855}, 6: {' <=50K': 0.5714285714285714, ' >50K': 0.42857142857142855}, 4: {' <=50K': 1.0}, 14: {' <=50K': 1.0}, 34: {' <=50K': 1.0}, 19: {' <=50K': 1.0}, 46: {' <=50K': 1.0}, 13: {' <=50K': 1.0}}, 'native country (region)': {' United-States': {' <=50K': 0.7661388550548112, ' >50K': 0.23386114494518878}, ' Taiwan': {' >50K': 1.0}, ' Italy': {' <=50K': 1.0}, ' Mexico': {' <=50K': 1.0}, ' Cuba': {' <=50K': 1.0}, ' Canada': {' <=50K': 0.42857142857142855, ' >50K': 0.5714285714285714}, ' ?': {' <=50K': 0.6666666666666666, ' >50K': 0.3333333333333333}, ' Philippines': {' <=50K': 0.625, ' >50K': 0.375}, ' Puerto-Rico': {' <=50K': 1.0}, ' England': {' <=50K': 0.5714285714285714, ' >50K': 0.42857142857142855}, ' Poland': {' <=50K': 1.0}, ' India': {' >50K': 0.5714285714285714, ' <=50K': 0.42857142857142855}, ' Dominican-Republic': {' <=50K': 1.0}, ' Cambodia': {' >50K': 1.0}, ' Iran': {' >50K': 0.5714285714285714, ' <=50K': 0.42857142857142855}, ' South': {' <=50K': 0.5, ' >50K': 0.5}, ' China': {' >50K': 1.0}, ' Germany': {' <=50K': 1.0}, ' Honduras': {' <=50K': 0.5, ' >50K': 0.5}, ' Jamaica': {' <=50K': 1.0}, ' Portugal': {' <=50K': 1.0}, ' El-Salvador': {' <=50K': 1.0}, ' Guatemala': {' <=50K': 1.0}, ' France': {' <=50K': 1.0}, ' Haiti': {' <=50K': 1.0}, ' Ecuador': {' <=50K': 1.0}}})\n"
     ]
    }
   ],
   "source": [
    "import numpy as np\n",
    "# This function should calculate prior probabilities and likelihoods (conditional probabilities) from the training data and using\n",
    "# to build a naive Bayes model\n",
    "from collections import defaultdict\n",
    "\n",
    "\n",
    "\n",
    "def train(x_train: pd.DataFrame, y_train: pd.Series, smoothing = lambda x: x + 1):\n",
    "    conditional_raw = {}\n",
    "    conditionals = {}\n",
    "    for column in x_train:\n",
    "        conditional_raw[column] = {}\n",
    "        for i, elem in enumerate(x_train[column]):\n",
    "            if elem not in conditional_raw[column].keys():\n",
    "                conditional_raw[column][elem] = {}\n",
    "            if y_train.values[i] not in conditional_raw[column][elem].keys():\n",
    "                conditional_raw[column][elem][y_train.values[i]] = 1\n",
    "            else:\n",
    "                conditional_raw[column][elem][y_train.values[i]] += 1\n",
    "    for column in conditional_raw:\n",
    "        conditionals[column] = {}\n",
    "        for elem in conditional_raw[column]:\n",
    "            conditionals[column][elem] = {}\n",
    "            for cl in conditional_raw[column][elem]:\n",
    "                conditional_raw[column][elem][cl] = smoothing(conditional_raw[column][elem][cl])\n",
    "            for cl in conditional_raw[column][elem]:\n",
    "                class_total = conditional_raw[column][elem][cl]\n",
    "                abc = conditional_raw[column][elem].values()\n",
    "                total = float(sum([elem for elem in abc]))\n",
    "                conditionals[column][elem][cl] = class_total/total\n",
    "    priors = y_train.value_counts()\n",
    "    priors = {cl: count/float(sum(priors.values)) for cl, count in priors.items()}\n",
    "    return priors, conditionals\n",
    "\n",
    "print(train(X_train, y_train))"
   ]
  },
  {
   "cell_type": "code",
   "execution_count": 73,
   "metadata": {},
   "outputs": [],
   "source": [
    "# This function should predict classes for new items in the testing data\n",
    "def predict():\n",
    "    return"
   ]
  },
  {
   "cell_type": "code",
   "execution_count": null,
   "metadata": {},
   "outputs": [],
   "source": [
    "# This function should evaliate the prediction performance by comparing your model’s class outputs to ground\n",
    "# truth labels, return and output accuracy, confusion matrix and F1 score.\n",
    "\n",
    "def evaluate():\n",
    "    return"
   ]
  },
  {
   "cell_type": "code",
   "execution_count": null,
   "metadata": {},
   "outputs": [],
   "source": [
    "# This cell should act as your \"main\" function where you call the above functions \n",
    "# on the full ADULT data set, and print the evaluation results. [0.33 marks]\n",
    "\n",
    "\n",
    "# First, read in the data and apply your NB model to the ADULT data\n",
    "\n",
    "\n",
    "# Second, print the full evaluation results from the evaluate() function\n",
    "\n",
    "\n",
    "# Third, print data statistics and model predictions, as instructed below\n",
    "# N is the total number of instances, F the total number of attributes, L the total number of labels\n",
    "# The \"class probabilities\" may be unnormalized\n",
    "# The \"predicted class ID\" must be in range (0, L)\n",
    "\n",
    "print(\n",
    "    \"Attribute vectors of instances [0, 1, 2]: \", )  # of the first three records in adult.csv\n",
    "\n",
    "print(\"\\nNumber of instances (N): \", )\n",
    "print(\"Number of attributes (F): \", )\n",
    "print(\"Number of labels (L): \", )\n",
    "\n",
    "# print out the prediction results of the last three instances\n",
    "print(\"\\n\\nPredicted class log-probabilities for instance N-3: \", )\n",
    "print(\"Predicted class ID for instance N-3: \", )\n",
    "print(\"\\nPredicted class log-probabilities for instance N-2: \", )\n",
    "print(\"Predicted class ID for instance N-2: \", )\n",
    "print(\"\\nPredicted class log-probabilities for instance N-1: \", )\n",
    "print(\"Predicted class ID for instance N-1: \", )\n",
    "\n"
   ]
  },
  {
   "cell_type": "markdown",
   "metadata": {},
   "source": [
    "## Part 2: Conceptual questions [8 marks for groups of 1] / [16 marks for groups of 2]\n",
    "\n",
    "\n",
    "If you are in a group of 1, you should respond to Q1 and Q2.\n",
    "\n",
    "If you are in a group of 2, you should respond to Q1, Q2, Q3 and Q4.\n",
    "\n",
    "A response to a question should take about 100–250 words. You may need to develope codes or functions to help respond to the question here. \n",
    "\n",
    "#### NOTE: We strongly recommend <u>including figures or tables, etc.</u> to support your responses. The figures and tables inserted in Markdown cells must be reproducable by your code."
   ]
  },
  {
   "cell_type": "markdown",
   "metadata": {},
   "source": [
    "### Q1 [4 marks]\n",
    "<u>Sensitivity</u> and <u>specificity</u> are two model evaluation metrics.  A good model should have both sensitivity and specificity high. Use the $2 \\times 2$ confusion matrix returned by `evaluate()` to calculate the sensitivity and specificity. Do you see a difference between them? If so, what causes this difference? Provide suggestions to improve the model performance. "
   ]
  },
  {
   "cell_type": "code",
   "execution_count": null,
   "metadata": {},
   "outputs": [],
   "source": [
    "# Write additional code here, if necessary (you may insert additional code cells)"
   ]
  },
  {
   "cell_type": "markdown",
   "metadata": {},
   "source": [
    "Provide your text answer of 150-200 words in this cell."
   ]
  },
  {
   "cell_type": "markdown",
   "metadata": {},
   "source": [
    "### Q2 [4 marks]\n",
    "You can adopt different methods for training and/or testing, which will produce different results in model evaluation. \n",
    "\n",
    "(a) Instead of Gaussian, <u>implement KDE</u> for  $P(X_i|c_j)$ for numeric attributes $X_i$. Compare the evaluation results with Gaussian. Which one do you think is more suitable to model $P(X_i|c_j)$, Gaussian or KDE? Observe all numeric attributes and justify your answer.\n",
    "\n",
    "You can choose an arbitrary value for kernel bandwidth $\\sigma$ for KDE, but a value between 3 and 15 is recommended. You should write code to implement KDE, not call an existing function/method such as `KernelDensity` from `scikit-learn`.\n",
    "\n",
    "(b) Implement <u>10-fold and 2-fold cross-validations</u>.  \n",
    "\tObserve the evaluation results in each fold and the average accuracy, recall and specificity over all folds. \n",
    "\tComment on what is the effect by changing the values of $m$ in $m$-fold cross validation. (You can choose either Gaussian or KDE Naive Bayes.)"
   ]
  },
  {
   "cell_type": "code",
   "execution_count": null,
   "metadata": {},
   "outputs": [],
   "source": [
    "# Write additional code here, if necessary (you may insert additional code cells)"
   ]
  },
  {
   "cell_type": "markdown",
   "metadata": {
    "jupyter": {
     "outputs_hidden": true
    }
   },
   "source": [
    "Provide your text answer of 150-200 words in this cell."
   ]
  },
  {
   "cell_type": "markdown",
   "metadata": {},
   "source": [
    "### Q3 [4 marks]\n",
    "In `train()`, you are asked to treat the missing value of nominal attributes as a new category. There is another option (as suggested in Thu lecture in week 2): <u>ignoring the missing values</u>. \n",
    "Compare the two methods in both large and small datasets. Comment and explain your observations.\n",
    "You can extract the first 50 records to construct a small dataset.Use Gaussian Naive Bayes only for this question."
   ]
  },
  {
   "cell_type": "code",
   "execution_count": null,
   "metadata": {},
   "outputs": [],
   "source": [
    "# Write additional code here, if necessary (you may insert additional code cells)"
   ]
  },
  {
   "cell_type": "markdown",
   "metadata": {},
   "source": [
    "Provide your text answer of 150-200 words in this cell."
   ]
  },
  {
   "cell_type": "markdown",
   "metadata": {},
   "source": [
    "### Q4 [4 marks]\n",
    "In week 4, we have learned how to obtain information gain (IG) and gain ratio (GR) to choose an attribute to split a node in a decision tree. We will see how to apply them in the Naive Bayes classification.\n",
    "\n",
    "(a) Compute the GR of each attribute $X_i$, relative to the class distribution. In the Na\\\"ive Bayes classifier, remove attributes in the ascending order of GR: first, remove $P(X_i|c_j)$ such that $X_i$ has the least GR; second, remove $P(X_{i'}|c_j)$ such that $X_{i'}$ has the second least GR,......, until there is only one $X_{i*}$ with the largest GR remaining in the maximand $P(c_j) P(X_{i^*} | c_j)$. Observe the <u>change of the accuracy for both Gaussian and KDE</u> (Choose bandwidth $\\sigma=10$ for KDE).\n",
    "\n",
    "(b) Compute the IG between each pair of attributes. Describe and explain your observations. Choose an attribute and implement an estimator to predict the value of `education num`. Explain why you choose this attribute. Enumerate two other examples that an attribute can be used to estimate the other and explain the reason.  "
   ]
  },
  {
   "cell_type": "code",
   "execution_count": null,
   "metadata": {},
   "outputs": [],
   "source": [
    "# Write additional code here, if necessary (you may insert additional code cells)"
   ]
  },
  {
   "cell_type": "markdown",
   "metadata": {},
   "source": [
    "### (a)"
   ]
  },
  {
   "cell_type": "markdown",
   "metadata": {},
   "source": [
    "Provide your text answer to **Question 4.a** of 100-150 words in this cell."
   ]
  },
  {
   "cell_type": "markdown",
   "metadata": {},
   "source": [
    "### (b)"
   ]
  },
  {
   "cell_type": "markdown",
   "metadata": {},
   "source": [
    "Provide your text answer to **Question 4.b** of 150-200 words in this cell."
   ]
  },
  {
   "cell_type": "markdown",
   "metadata": {},
   "source": [
    "<b>Authorship Declaration</b>:\n",
    "\n",
    "   (1) I certify that the program contained in this submission is completely\n",
    "   my own individual work, except where explicitly noted by comments that\n",
    "   provide details otherwise.  I understand that work that has been developed\n",
    "   by another student, or by me in collaboration with other students,\n",
    "   or by non-students as a result of request, solicitation, or payment,\n",
    "   may not be submitted for assessment in this subject.  I understand that\n",
    "   submitting for assessment work developed by or in collaboration with\n",
    "   other students or non-students constitutes Academic Misconduct, and\n",
    "   may be penalized by mark deductions, or by other penalties determined\n",
    "   via the University of Melbourne Academic Honesty Policy, as described\n",
    "   at https://academicintegrity.unimelb.edu.au.\n",
    "\n",
    "   (2) I also certify that I have not provided a copy of this work in either\n",
    "   softcopy or hardcopy or any other form to any other student, and nor will\n",
    "   I do so until after the marks are released. I understand that providing\n",
    "   my work to other students, regardless of my intention or any undertakings\n",
    "   made to me by that other student, is also Academic Misconduct.\n",
    "\n",
    "   (3) I further understand that providing a copy of the assignment\n",
    "   specification to any form of code authoring or assignment tutoring\n",
    "   service, or drawing the attention of others to such services and code\n",
    "   that may have been made available via such a service, may be regarded\n",
    "   as Student General Misconduct (interfering with the teaching activities\n",
    "   of the University and/or inciting others to commit Academic Misconduct).\n",
    "   I understand that an allegation of Student General Misconduct may arise\n",
    "   regardless of whether or not I personally make use of such solutions\n",
    "   or sought benefit from such actions.\n",
    "\n",
    "   <b>Signed by</b>: [Enter your full name and student number here before submission]\n",
    "   \n",
    "   <b>Dated</b>: [Enter the date that you \"signed\" the declaration]"
   ]
  }
 ],
 "metadata": {
  "kernelspec": {
   "display_name": "Python 3 (ipykernel)",
   "language": "python",
   "name": "python3"
  },
  "language_info": {
   "codemirror_mode": {
    "name": "ipython",
    "version": 3
   },
   "file_extension": ".py",
   "mimetype": "text/x-python",
   "name": "python",
   "nbconvert_exporter": "python",
   "pygments_lexer": "ipython3",
   "version": "3.9.7"
  }
 },
 "nbformat": 4,
 "nbformat_minor": 4
}