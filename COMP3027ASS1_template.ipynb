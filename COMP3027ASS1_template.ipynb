{
 "cells": [
  {
   "cell_type": "markdown",
   "metadata": {},
   "source": [
    "### The University of Melbourne, School of Computing and Information Systems\n",
    "# COMP30027 Machine Learning, 2022 Semester 1\n",
    "\n",
    "## Assignment 1: Naive Bayes Leaner for Adult Database\n"
   ]
  },
  {
   "cell_type": "markdown",
   "metadata": {},
   "source": [
    "**Student Name(s):** `PLEASE ENTER YOUR NAME(S) HERE`\n",
    "<br>\n",
    "**Student ID(s):** `PLEASE ENTER YOUR ID(S) HERE`"
   ]
  },
  {
   "cell_type": "markdown",
   "metadata": {},
   "source": [
    "\n",
    "\n",
    "Marking will be applied on the four functions that are defined in this notebook, and to your responses to the questions at the end of this notebook.\n",
    "\n",
    "## General info\n",
    "\n",
    "<b>Due date</b>: Friday, 8 April 2022 7pm\n",
    "\n",
    "<b>Submission method</b>: Canvas submission\n",
    "\n",
    "<b>Submission materials</b>: This iPython notebook is a template which you will use for your Assignment 1 submission. You need to only submitted the completed copy of this iPython notebook.\n",
    "\n",
    "<b>Late submissions</b>: -10% per day up to 5 days (both weekdays and weekends count). Submissions more than 5 days late will not be accepted (resul in a mark of 0).\n",
    "<ul>\n",
    "    <li>one day late, -1.0;</li>\n",
    "    <li>two days late, -2.0;</li>\n",
    "    <li>three days late, -3.0;</li>\n",
    "    <li>four days late, -4.0;</li>\n",
    "    <li>five days late, -5.0;</li>\n",
    "</ul>\n",
    "\n",
    "<b>Extensions</b>: Students who are demonstrably unable to submit a full solution in time due to medical reasons or other trauma, may apply for an extension.  In these cases, you should email <a href=\"mailto:ni.ding@unimelb.edu.au\">Ni Ding</a> as soon as possible after those circumstances arise. If you attend a GP or other health care service as a result of illness, be sure to provide a Health Professional Report (HPR) form (get it from the Special Consideration section of the Student Portal), you will need this form to be filled out if your illness develops into something that later requires a Special Consideration application to be lodged. You should scan the HPR form and send it with the extension requests.\n",
    "\n",
    "<b>Marks</b>: This assignment will be marked out of 20, and make up 20% of your overall mark for this subject.\n",
    "\n",
    "<b>Materials</b>: Use Jupyter Notebook and Python page on Canvas for information on the basic setup required for this class, including an iPython notebook viewer and the python packages NLTK, Numpy, Scipy, Matplotlib, Scikit-Learn. You can use any Python built-in packages, but do not use any other 3rd party packages; if your iPython notebook doesn't run on the marker's machine, you will lose marks. <b> You should use Python 3</b>.  \n",
    "\n",
    "\n",
    "<b>Evaluation</b>: Your iPython notebook should run end-to-end without any errors in a reasonable amount of time, and you must follow all instructions provided below, including specific implementation requirements and instructions for what needs to be printed (please avoid printing output we don't ask for). You should edit the sections below where requested, but leave the rest of the code as is. You should leave the output from running your code in the iPython notebook you submit, to assist with marking. The amount each section is worth is given in parenthesis after the instructions. \n",
    "\n",
    "You will be marked not only on the correctness of your methods, but also the quality and efficency of your code: in particular, you should be careful to use Python built-in functions and operators when appropriate and pick descriptive variable names that adhere to <a href=\"https://www.python.org/dev/peps/pep-0008/\">Python style requirements</a>. If you think it might be unclear what you are doing, you should comment your code to help the marker make sense of it. We reserve the right to deduct up to 2 marks for unreadable or exessively inefficient code.\n",
    "\n",
    "8 of the marks available for this Project will be assigned to whether the four specified Python functions work in a manner consistent with the materials from COMP30027. Any other implementation will not be directly assessed (except insofar as it is required to make these five functions work correctly).\n",
    "\n",
    "12 of the marks will be assigned to your responses to the questions, in terms of both accuracy and insightfulness. We will be looking for evidence that you have an implementation that allows you to explore the problem, but also that you have thought deeply about the data and the behaviour of the Naive Bayes classifier.\n",
    "\n",
    "<b>Updates</b>: Any major changes to the assignment will be announced via Canvas. Minor changes and clarifications will be announced on the discussion board (ED -> Assignments -> A1); we recommend you check it regularly.\n",
    "\n",
    "<b>Academic misconduct</b>: For most people, collaboration will form a natural part of the undertaking of this homework, and we encourge you to discuss it in general terms with other students. However, this ultimately is still an individual task, and so reuse of code or other instances of clear influence will be considered cheating. Please check the <a href=\"https://canvas.lms.unimelb.edu.au/courses/124196/modules#module_662096\">CIS Academic Honesty training</a> for more information. We will be checking submissions for originality and will invoke the University’s <a href=\"http://academichonesty.unimelb.edu.au/policy.html\">Academic Misconduct policy</a> where inappropriate levels of collusion or plagiarism are deemed to have taken place.\n",
    "\n",
    "**IMPORTANT**\n",
    "\n",
    "Please carefully read and fill out the <b>Authorship Declaration</b> form at the bottom of the page. Failure to fill out this form results in the following deductions: \n",
    "<UL TYPE=”square”>\n",
    "<LI>missing Authorship Declaration at the bottom of the page, -5.0\n",
    "<LI>incomplete or unsigned Authorship Declaration at the bottom of the page, -3.0\n",
    "</UL>\n",
    "**NOTE: COMPLETE AND SUBMIT THIS FILE. YOU SHOULD IMPLEMENT FOUR FUNCTIONS AND INCLUDE YOUR ANSWERS TO THE QUESTIONS IN THIS FILE ONLY. NO OTHER SUBMISSION IS REQUIRED.**\n",
    "\n",
    "**Keep your code clean. Adding proper comments to your code is MANDATORY.**"
   ]
  },
  {
   "cell_type": "markdown",
   "metadata": {},
   "source": [
    "## Part 1: Base code [8 marks]\n",
    "\n",
    "Instructions\n",
    "1. Do **not** shuffle the data set\n",
    "2. Treat the attributes as they are(e.g., do **not** convert numeric attributes to categorical or categorical to numeric). Implement a Naive Bayes classifier with appropriate likelihood function for each attribute.\n",
    "3. You should implement the Naive Bayes classifier from scratch. Do **not** use existing implementations/learning algorithms.\n",
    "4. You CANNOT have more than one train or predict function. Both continuous numeric attributes and categorical ones should be trained in one `train()` function, similarly for the `predict()`.  \n",
    "5. Apart from the instructions in point 3, you may use libraries to help you with data reading, representation, maths or evaluation\n",
    "6. Ensure that all and only required information is printed, as indicated in the final three code cells. Failure to adhere to print the required information will result in **[-1 mark]** per case. *(We don't mind details like you print a list or several numbers -- just make sure the information is displayed so that it's easily accessible)\n",
    "7. You may change the prototypes of these functions, and you may write other functions, according to your requirements. We would appreciate it if the required functions were prominent/easy to find. \n",
    "8. You should add adequate comments to make your code easily comprehendible.*"
   ]
  },
  {
   "cell_type": "code",
   "execution_count": 497,
   "outputs": [],
   "source": [
    "from functools import partial\n",
    "from typing import Callable\n",
    "\n",
    "import numpy as np\n",
    "import pandas\n",
    "import pandas as pd\n",
    "from sklearn.model_selection import train_test_split"
   ],
   "metadata": {
    "collapsed": false,
    "pycharm": {
     "name": "#%%\n"
    }
   }
  },
  {
   "cell_type": "code",
   "execution_count": 498,
   "metadata": {},
   "outputs": [],
   "source": [
    "# This function should prepare the data by reading it from a file and converting it into a useful format for training and testing\n",
    "# and implement 90-10 splitting as specified in the project description.\n",
    "def preprocess(filename: str, label_column_name: str) -> [pd.DataFrame,\n",
    "                                                          pd.DataFrame,\n",
    "                                                          pd.DataFrame,\n",
    "                                                          pd.Series,\n",
    "                                                          pd.Series]:\n",
    "    \"\"\"\n",
    "    preprocess takes a fillename and the name of the label column (in the assigment \"label\", in the lecture examples \"Diagnosis\")\n",
    "    and returns a pandas dataframe of the data with all leading and trailing whitespaces removed\n",
    "    :param filename: the name of the file to open\n",
    "    :param label_column_name: the name of the column with the class labels\n",
    "    :return:\n",
    "        rawdata: pandas.DataFrame: a raw copy of the un-split data\n",
    "        x_train: pandas.DataFrame: training data\n",
    "        x_test: pandas.DataFrame: testing data\n",
    "        y_train: pandas.Series: class labels for training data\n",
    "        y_test: pandas.Series: class labels for testing data\n",
    "    \"\"\"\n",
    "    rawdata: pd.DataFrame = pd.read_csv(filename)\n",
    "    # This removes all the leading and trailing whitespaces from the csv file\n",
    "    rawdata = rawdata.applymap(\n",
    "        lambda x: x.strip(\" \") if isinstance(x, str) else x)\n",
    "    data = rawdata.copy()\n",
    "    labels = data.pop(label_column_name)\n",
    "    x_train, x_test, y_train, y_test = train_test_split(data, labels,\n",
    "                                                        test_size=0.1,\n",
    "                                                        shuffle=False)\n",
    "    return rawdata, x_train, x_test, y_train, y_test"
   ]
  },
  {
   "cell_type": "code",
   "execution_count": 499,
   "metadata": {},
   "outputs": [],
   "source": [
    "def get_frequency(m: {}, class_name: str) -> float:\n",
    "    \"\"\"\n",
    "    get_frequency returns a decimal percentage of the amount that class_key makes up\n",
    "    :param m:  dictionary of class:count\n",
    "    :param key: class key\n",
    "    :return: decimal percentage of class in m\n",
    "    \"\"\"\n",
    "    if class_name not in m.keys():\n",
    "        raise KeyError(class_name)\n",
    "    class_count = m[class_name]\n",
    "    total = sum(m.values())\n",
    "    return float(class_count) / float(total)\n",
    "\n",
    "\n",
    "def is_numeric(x) -> bool:\n",
    "    \"\"\"\n",
    "    isnumeric returns true if x is a number type\n",
    "    :param x: a variable\n",
    "    :return: true if x is a numeric type\n",
    "    \"\"\"\n",
    "    return isinstance(x, (int, float, np.int64))\n",
    "\n",
    "\n",
    "def gaussian(**kwargs: int) -> float:\n",
    "    \"\"\"\n",
    "    gaussian calculates the floating point result from stdev, mean, and an x value\n",
    "    :param kwargs: input optional fields\n",
    "    :return: value of x on the gaussian distribution\n",
    "    \"\"\"\n",
    "    stdev = kwargs.get(\"stdev\")\n",
    "    mean = kwargs.get(\"mean\")\n",
    "    x = kwargs.get(\"x\")\n",
    "    return (1 / (stdev * np.sqrt(2 * np.pi))) * np.e ** (\n",
    "            -1 / 2 * ((x - mean) / stdev) ** 2)\n",
    "\n",
    "\n",
    "class Model:\n",
    "    \"\"\"\n",
    "    Model is a class that abstracts the calculation of the prior probabilities, conditional probabilities as well as storing the gaussian distribution information (mean, stdev).\n",
    "    \"\"\"\n",
    "    priors: {str: int} = {}\n",
    "    conditionals_probs: {str: {}} = {}\n",
    "    gaussian_params: {str: {str: (float, float)}} = {}\n",
    "    x_train: pd.DataFrame = None\n",
    "    y_train: pd.DataFrame = None\n",
    "\n",
    "\n",
    "    def prior_probability(self, class_name: str) -> float:\n",
    "        \"\"\"\n",
    "        prior_probability returns the prior probability for a class\n",
    "        :param class_name: the name of the class\n",
    "        :return: the floating point prior probability of the class\n",
    "        \"\"\"\n",
    "        return get_frequency(self.priors, class_name)\n",
    "\n",
    "    def conditionals(self, column_name: str, x, class_name: str,\n",
    "                     method: Callable[..., float]):\n",
    "        \"\"\"\n",
    "        conditionals calculates the conditional probabilities\n",
    "        :param column_name: The name of the column/attribute\n",
    "        :param x: The new attribute instance who's conditional probability is being calculated\n",
    "        :param class_name: The class name\n",
    "        :param method: A callable method that is being used to calculate continuous distributions,\n",
    "        this function is passed the following parameters:\n",
    "            x: The attribute instance that is being calculated\n",
    "            stdev: The standard deviation of the attribute's distribution\n",
    "            mean: The mean of the attribute's distribution\n",
    "            samples: The samples from the attribute that are are of class \"class_name\".\n",
    "        from all this information both gaussian and kde values can be calculated.\n",
    "        :return:\n",
    "        \"\"\"\n",
    "        # if the column/attribute name is not in the conditional probability keys then\n",
    "        # there's a huge issue\n",
    "        if column_name not in self.conditionals_probs.keys():\n",
    "            raise KeyError(column_name)\n",
    "        # if the class name isn't in the training set then there is also a problem\n",
    "        if class_name not in self.conditionals_probs[column_name].keys():\n",
    "            raise KeyError(class_name)\n",
    "        # if x is numeric then we will calculate the y value using our distribution\n",
    "        # method that is passed in\n",
    "        if is_numeric(x):\n",
    "            ave, std = self.gaussian_params[column_name][class_name]\n",
    "            return method(x=x,\n",
    "                          stdev=std,\n",
    "                          mean=ave,\n",
    "                          samples=model.x_train[column_name][model.y_train == class_name])\n",
    "        # if x is not in the conditional probabilities then return an incremental probability\n",
    "        # this is equivalent to if the value was seen once in the training data set\n",
    "        if x not in self.conditionals_probs[column_name][class_name].keys():\n",
    "            return 1 / sum(self.priors.values())\n",
    "        # else return the frequency of the conditional probability\n",
    "        return get_frequency(self.conditionals_probs[column_name][class_name],\n",
    "                             x)\n",
    "\n"
   ]
  },
  {
   "cell_type": "code",
   "execution_count": 500,
   "outputs": [],
   "source": [
    "# This function should calculate prior probabilities and likelihoods (conditional probabilities) from the training data and using\n",
    "# to build a naive Bayes model\n",
    "def train(x_train: pd.DataFrame, y_train: pd.Series) -> Model:\n",
    "    \"\"\"\n",
    "    train trains the model and returns a Model class that can then be passed into other functions.\n",
    "    :param x_train: The training attributes\n",
    "    :param y_train: The training labels\n",
    "    :return: A Model of the training data\n",
    "    \"\"\"\n",
    "    model = Model()\n",
    "    model.priors = y_train.value_counts().to_dict()\n",
    "    model.x_train = x_train\n",
    "    model.y_train = y_train\n",
    "\n",
    "    for column_name in x_train:\n",
    "        # if the first instance of the column/attribute is numeric we will\n",
    "        # take the mean and standard deviation\n",
    "        column = x_train[column_name]\n",
    "        if len(column) > 0 and is_numeric(column.values[0]):\n",
    "            model.gaussian_params[column_name] = {}\n",
    "            for key in model.priors.keys():\n",
    "                samples = [elem for i, elem in\n",
    "                           enumerate(x_train[column_name]) if\n",
    "                           y_train.values[i] == key]\n",
    "                model.gaussian_params[column_name][key] = (\n",
    "                    np.mean(samples), np.std(samples, ddof=1))\n",
    "        # calculate the conditional probabilities\n",
    "        model.conditionals_probs[column_name] = {}\n",
    "        for i, elem in enumerate(x_train[column_name]):\n",
    "            label = y_train.values[i]\n",
    "            # if the elem if empty then append the index so that\n",
    "            # it is unique from all the other missing values\n",
    "            if elem == \"?\":\n",
    "                elem = f\"{elem}{i}\"\n",
    "            # create a map structure of [column_name][class_type][element]\n",
    "            # for example ['age']['<50'][30] == 17 or\n",
    "            # for example ['work']['<50'][State-Gov] == 32\n",
    "            if label not in model.conditionals_probs[column_name].keys():\n",
    "                model.conditionals_probs[column_name][label] = {}\n",
    "            if elem not in model.conditionals_probs[column_name][\n",
    "                label].keys():\n",
    "                model.conditionals_probs[column_name][label][elem] = 1\n",
    "            else:\n",
    "                model.conditionals_probs[column_name][label][elem] += 1\n",
    "    return model"
   ],
   "metadata": {
    "collapsed": false,
    "pycharm": {
     "name": "#%%\n"
    }
   }
  },
  {
   "cell_type": "code",
   "execution_count": 501,
   "metadata": {},
   "outputs": [],
   "source": [
    "\n",
    "\n",
    "def predict_one(test: pd.Series,\n",
    "                model: Model,\n",
    "                all_vals: [],\n",
    "                method: Callable[..., float]):\n",
    "    \"\"\"\n",
    "    predict_one predicts a single instance\n",
    "    :param test: pandas.DataFrame a single test instance\n",
    "    :param model: The trained model\n",
    "    :param all_vals: a list to append the result to\n",
    "    :param method: The method to use for continuous numeric attributes\n",
    "    \"\"\"\n",
    "    vals: [(str, float)] = []\n",
    "\n",
    "    # prior_key will be all of the labels (<50k, >=50k) for example\n",
    "    for prior_key in model.priors.keys():\n",
    "        prob = np.log(model.prior_probability(prior_key))\n",
    "\n",
    "        # key will be the attribute name, val will be the attribute value\n",
    "        for key, val in test.to_dict().items():\n",
    "            a = model.conditionals(key, val, prior_key, method)\n",
    "            prob += np.log(a)\n",
    "        vals.append((prior_key, prob))\n",
    "    vals.sort(key=lambda x: x[1], reverse=True)\n",
    "    all_vals.append((vals[0][0], vals))\n",
    "\n",
    "\n",
    "# This function should predict classes for new items in the testing data\n",
    "def predict(tests: pd.DataFrame,\n",
    "            model: Model,\n",
    "            method: Callable[..., float]) -> [str, [(str, float)]]:\n",
    "    \"\"\"\n",
    "    predict predicts the model with test data with method as the function that calculates continuous numeric attributes\n",
    "    :param tests: pandas DataFrame of test data, without the label column.\n",
    "    :param model: A Model that has been trained\n",
    "    :param method: A function to calculate the continuous distribution of numeric attributes that is passed the following parameters\"\n",
    "            x: The attribute instance that is being calculated\n",
    "            stdev: The standard deviation of the attribute's distribution\n",
    "            mean: The mean of the attribute's distribution\n",
    "            samples: The samples from the attribute that are of class \"class_name\".\n",
    "    :return:\n",
    "        str: The predicted classification of the test data\n",
    "        list: A sorted tuple of the class and its log probability ranking\n",
    "    \"\"\"\n",
    "    all_vals: [[(str, float)]] = []\n",
    "    partial_predict_one = partial(predict_one,\n",
    "                                  model=model,\n",
    "                                  method=method,\n",
    "                                  all_vals=all_vals)\n",
    "    tests.apply(partial_predict_one, axis=1)\n",
    "    return all_vals"
   ]
  },
  {
   "cell_type": "code",
   "execution_count": 502,
   "metadata": {},
   "outputs": [],
   "source": [
    "# This function should evaliate the prediction performance by comparing your model’s class outputs to ground\n",
    "# truth labels, return and output accuracy, confusion matrix and F1 score.\n",
    "def evaluate(actual: [], predicted: [], positive, negative) -> [pd.DataFrame,\n",
    "                                                                float, float]:\n",
    "    \"\"\"\n",
    "    evaluate evaluates the models' performance from expected and actual classifications\n",
    "    :param actual: The actual classification that are expected\n",
    "    :param predicted: What the model predicted\n",
    "    :param positive: The class that is considered to be the positive case (for example \"<=50K\")\n",
    "    :param negative: The class that is considered to be the negative case (for example \">50K\")\n",
    "    :return:\n",
    "        list: An evaluation matrix\n",
    "        float: the accuracy of the model\n",
    "        float: the f1 score of the model\n",
    "    \"\"\"\n",
    "    tp, fn, fp, tn = 0, 0, 0, 0\n",
    "    for i, elem in enumerate(predicted):\n",
    "        if elem == actual[i] == positive:\n",
    "            tp += 1\n",
    "        if elem == actual[i] == negative:\n",
    "            tn += 1\n",
    "        if elem != actual[i] == positive:\n",
    "            fn += 1\n",
    "        if elem != actual[i] == negative:\n",
    "            fp += 1\n",
    "    accuracy = (tp + tn) / len(predicted)\n",
    "    precision = tp / (tp + fp)\n",
    "    recall = tp / (tp + fn)\n",
    "    f = (2 * precision * recall) / (precision + recall)\n",
    "    columnlabels = [\"predicted positive\", \"predicted negative\"]\n",
    "    indexlabels = [\"actual positive\", \"actual negative\"]\n",
    "    confusion_matrix = pd.DataFrame([[tp, fn], [fp, tn]],\n",
    "                                    columns=columnlabels,\n",
    "                                    index=indexlabels)\n",
    "    return confusion_matrix, accuracy, f\n"
   ]
  },
  {
   "cell_type": "code",
   "execution_count": 503,
   "metadata": {},
   "outputs": [
    {
     "name": "stdout",
     "output_type": "stream",
     "text": [
      "Gaussian Naive Bayes\n",
      "confusion_matrix:\n",
      "                 predicted positive  predicted negative\n",
      "actual positive                  69                   8\n",
      "actual negative                   6                  17\n",
      "\n",
      "accuracy: 0.86\n",
      "f_score : 0.9078947368421053\n",
      "\n",
      "Attribute vectors of instances [0, 1, 2]: \n",
      "    age        work class  education  education num      marital status  \\\n",
      "0   68                 ?    1st-4th              2            Divorced   \n",
      "1   39         State-gov  Bachelors             13       Never-married   \n",
      "2   50  Self-emp-not-inc  Bachelors             13  Married-civ-spouse   \n",
      "\n",
      "        occupation   relationship   race     sex  hours per week  \\\n",
      "0                ?  Not-in-family  White  Female              20   \n",
      "1     Adm-clerical  Not-in-family  White    Male              40   \n",
      "2  Exec-managerial        Husband  White    Male              13   \n",
      "\n",
      "  native country (region)  \n",
      "0           United-States  \n",
      "1           United-States  \n",
      "2           United-States  \n",
      "\n",
      "Number of instances (N):  1000\n",
      "Number of attributes (F):  11\n",
      "Number of labels (L):  2\n",
      "\n",
      "\n",
      "Predicted class log-probabilities for instance N-3:  [('>50K', -19.55627365283215), ('<=50K', -20.71689698193305)]\n",
      "Predicted class ID for instance N-3:  >50K\n",
      "\n",
      "Predicted class log-probabilities for instance N-2:  [('>50K', -22.744589775643142), ('<=50K', -25.339070637730188)]\n",
      "Predicted class ID for instance N-2:  >50K\n",
      "\n",
      "Predicted class log-probabilities for instance N-1:  [('>50K', -16.716481989445867), ('<=50K', -16.85279495864574)]\n",
      "Predicted class ID for instance N-1:  >50K\n"
     ]
    }
   ],
   "source": [
    "# This cell should act as your \"main\" function where you call the above functions \n",
    "# on the full ADULT data set, and print the evaluation results. [0.33 marks]\n",
    "\n",
    "# First, read in the data and apply your NB model to the ADULT data\n",
    "print(f\"Gaussian Naive Bayes\")\n",
    "\n",
    "# type hint these variables so that code is easier to read/develop\n",
    "x_train: pd.DataFrame\n",
    "x_test: pd.DataFrame\n",
    "y_train: pd.Series\n",
    "y_test: pd.Series\n",
    "\n",
    "# Because the coe is generic we need to specify what labels are being used\n",
    "positive_label = \"<=50K\"\n",
    "negative_label = \">50K\"\n",
    "label_name = \"label\"\n",
    "\n",
    "data, x_train, x_test, y_train, y_test = preprocess(\"adult.csv\", label_name)\n",
    "\n",
    "model = train(x_train, y_train)\n",
    "\n",
    "# pass in the gaussian function to the predict function\n",
    "results = predict(x_test, model, gaussian)\n",
    "\n",
    "# Second, print the full evaluation results from the \"evaluate()\" function\n",
    "predicted = [result[0] for result in results]\n",
    "\n",
    "confusion_m, accuracy, f1 = evaluate(y_test.values, predicted,\n",
    "                                     positive=positive_label,\n",
    "                                     negative=negative_label)\n",
    "\n",
    "print(f\"confusion_matrix:\\n{confusion_m}\\n\")\n",
    "print(f\"accuracy: {accuracy}\")\n",
    "print(f\"f_score : {f1}\\n\")\n",
    "\n",
    "# Third, print data statistics and model predictions, as instructed below\n",
    "# N is the total number of instances, F the total number of attributes, L the total number of labels\n",
    "# The \"class probabilities\" may be unnormalized\n",
    "# The \"predicted class ID\" must be in range (0, L)\n",
    "# of the first three records in adult.csv\n",
    "\n",
    "print(\"Attribute vectors of instances [0, 1, 2]: \\n\", x_train.head(3))\n",
    "\n",
    "print(\"\\nNumber of instances (N): \", len(x_train.values) + len(x_test.values))\n",
    "print(\"Number of attributes (F): \", len(x_train.keys()))\n",
    "print(\"Number of labels (L): \", len({e for e in y_test.values}))\n",
    "\n",
    "# print out the prediction results of the last three instances\n",
    "print(\"\\n\\nPredicted class log-probabilities for instance N-3: \",\n",
    "      results[-3][-1])\n",
    "print(\"Predicted class ID for instance N-3: \", results[-3][0])\n",
    "print(\"\\nPredicted class log-probabilities for instance N-2: \",\n",
    "      results[-2][-1])\n",
    "print(\"Predicted class ID for instance N-2: \", results[-2][0])\n",
    "print(\"\\nPredicted class log-probabilities for instance N-1: \",\n",
    "      results[-1][-1])\n",
    "print(\"Predicted class ID for instance N-1: \", results[-1][0])"
   ]
  },
  {
   "cell_type": "markdown",
   "metadata": {},
   "source": [
    "## Part 2: Conceptual questions [8 marks for groups of 1] / [16 marks for groups of 2]\n",
    "\n",
    "\n",
    "If you are in a group of 1, you should respond to Q1 and Q2.\n",
    "\n",
    "If you are in a group of 2, you should respond to Q1, Q2, Q3 and Q4.\n",
    "\n",
    "A response to a question should take about 100–250 words. You may need to develope codes or functions to help respond to the question here. \n",
    "\n",
    "#### NOTE: We strongly recommend <u>including figures or tables, etc.</u> to support your responses. The figures and tables inserted in Markdown cells must be reproducable by your code."
   ]
  },
  {
   "cell_type": "markdown",
   "source": [],
   "metadata": {
    "collapsed": false
   }
  },
  {
   "cell_type": "markdown",
   "metadata": {},
   "source": [
    "### Q1 [4 marks]\n",
    "<u>Sensitivity</u> and <u>specificity</u> are two model evaluation metrics.  A good model should have both sensitivity and specificity high. Use the $2 \\times 2$ confusion matrix returned by `evaluate()` to calculate the sensitivity and specificity. Do you see a difference between them? If so, what causes this difference? Provide suggestions to improve the model performance."
   ]
  },
  {
   "cell_type": "code",
   "execution_count": 504,
   "metadata": {},
   "outputs": [
    {
     "name": "stdout",
     "output_type": "stream",
     "text": [
      "sensitivity: 0.8961038961038961\n",
      "specificity: 0.7391304347826086\n"
     ]
    }
   ],
   "source": [
    "def sensitivity_specificity(confusion_matrix: pd.DataFrame) -> [float, float]:\n",
    "    tp, fn = confusion_matrix.values[0][0], confusion_matrix.values[0][1]\n",
    "    fp, tn = confusion_matrix.values[1][0], confusion_matrix.values[1][1]\n",
    "    return tp / (tp + fn), tn / (tn + fp)\n",
    "\n",
    "\n",
    "sensitivity, specificity = sensitivity_specificity(confusion_m)\n",
    "print(f\"sensitivity: {sensitivity}\")\n",
    "print(f\"specificity: {specificity}\")"
   ]
  },
  {
   "cell_type": "markdown",
   "metadata": {},
   "source": [
    "Provide your text answer of 150-200 words in this cell."
   ]
  },
  {
   "cell_type": "markdown",
   "metadata": {},
   "source": [
    "### Q2 [4 marks]\n",
    "You can adopt different methods for training and/or testing, which will produce different results in model evaluation. \n",
    "\n",
    "(a) Instead of Gaussian, <u>implement KDE</u> for  $P(X_i|c_j)$ for numeric attributes $X_i$. Compare the evaluation results with Gaussian. Which one do you think is more suitable to model $P(X_i|c_j)$, Gaussian or KDE? Observe all numeric attributes and justify your answer.\n",
    "\n",
    "You can choose an arbitrary value for kernel bandwidth $\\sigma$ for KDE, but a value between 3 and 15 is recommended. You should write code to implement KDE, not call an existing function/method such as `KernelDensity` from `scikit-learn`.\n",
    "\n",
    "(b) Implement <u>10-fold and 2-fold cross-validations</u>.  \n",
    "\tObserve the evaluation results in each fold and the average accuracy, recall and specificity over all folds. \n",
    "\tComment on what is the effect by changing the values of $m$ in $m$-fold cross validation. (You can choose either Gaussian or KDE Naive Bayes.)"
   ]
  },
  {
   "cell_type": "code",
   "execution_count": 505,
   "metadata": {},
   "outputs": [
    {
     "name": "stdout",
     "output_type": "stream",
     "text": [
      "KDE Naive Bayes\n",
      "\n",
      "Part a\n",
      "\n",
      "confusion_matrix:\n",
      "                 predicted positive  predicted negative\n",
      "actual positive                  64                  13\n",
      "actual negative                   4                  19\n",
      "\n",
      "accuracy: 0.83\n",
      "f_score : 0.8827586206896552\n",
      "\n"
     ]
    },
    {
     "data": {
      "text/plain": "<Figure size 432x288 with 1 Axes>",
      "image/png": "[encoded data removed]"
     },
     "metadata": {
      "needs_background": "light"
     },
     "output_type": "display_data"
    }
   ],
   "source": [
    "from matplotlib import pyplot as plt\n",
    "\n",
    "# Write additional code here, if necessary (you may insert additional code cells)\n",
    "print(f\"KDE Naive Bayes\\n\")\n",
    "print(f\"Part a\\n\")\n",
    "\n",
    "\n",
    "def kde(chosen_stdev, **kwargs: float) -> float:\n",
    "    \"\"\"\n",
    "    kde takes in a\n",
    "    :param chosen_stdev: The manually chosen stdev to calculate the cluster density function.\n",
    "    :param kwargs: Variadic input, of which\n",
    "            x: The current numeric data point\n",
    "            samples: A list of all the samples in the correct class\n",
    "    :return: A float of the calculated probability.\n",
    "    \"\"\"\n",
    "    x = kwargs.get(\"x\")\n",
    "    samples = kwargs.get(\"samples\")\n",
    "    s = 0\n",
    "    for xi in samples:\n",
    "        s += gaussian(x=x - xi, stdev=chosen_stdev, mean=0)\n",
    "    return (1 / len(samples)) * s\n",
    "\n",
    "\n",
    "results_kde = predict(x_test, model, partial(kde, 9))\n",
    "# Second, print the full evaluation results from the evaluate() function\n",
    "predicted_kde = [result[0] for result in results_kde]\n",
    "confusion_m_kde, accuracy_kde, f1_kde = evaluate(y_test.values, predicted_kde,\n",
    "                                                 positive=positive_label,\n",
    "                                                 negative=negative_label)\n",
    "y_gauss = []\n",
    "y_kde = []\n",
    "samples = model.x_train[\"age\"][model.y_train == positive_label]\n",
    "ave, std = model.gaussian_params[\"age\"][positive_label]\n",
    "for x in samples.tolist():\n",
    "    y_kde.append(kde(9, x=x, samples=samples.tolist(), mean=ave, stdev=std))\n",
    "    y_gauss.append(gaussian(x=x, samples=samples.tolist(), mean=ave, stdev=std))\n",
    "\n",
    "plt.scatter(samples.tolist(), y_kde)\n",
    "plt.scatter(samples.tolist(), y_gauss)\n",
    "\n",
    "\n",
    "\n",
    "print(f\"confusion_matrix:\\n{confusion_m_kde}\\n\")\n",
    "print(f\"accuracy: {accuracy_kde}\")\n",
    "print(f\"f_score : {f1_kde}\\n\")"
   ]
  },
  {
   "cell_type": "code",
   "source": [],
   "metadata": {
    "collapsed": false,
    "pycharm": {
     "name": "#%%\n"
    }
   },
   "execution_count": 505,
   "outputs": []
  },
  {
   "cell_type": "code",
   "execution_count": 506,
   "outputs": [
    {
     "name": "stdout",
     "output_type": "stream",
     "text": [
      "k fold validation, k=2\n",
      "average accuracy: 0.803\n",
      "average ave_f1: 0.864996974332568\n",
      "average sensitivity: 0.8324607329842932\n",
      "average specificity: 0.6864406779661016\n",
      "\n",
      "k fold validation, k=10\n",
      "average accuracy: 0.8029999999999999\n",
      "average ave_f1: 0.863790373135007\n",
      "average sensitivity: 0.8311688311688312\n",
      "average specificity: 0.8260869565217391\n",
      "\n"
     ]
    }
   ],
   "source": [
    "from sklearn.model_selection import KFold\n",
    "\n",
    "for k in [2, 10]:\n",
    "    kf = KFold(n_splits=k, random_state=None)\n",
    "    data2 = data.copy()\n",
    "    y_data = data2.pop(\"label\")\n",
    "    score = []\n",
    "    ave_acc, ave_f1 = np.array([]), np.array([])\n",
    "    ave_sensitivity, ave_specificity = np.array([]), np.array([])\n",
    "    for trainidx, testidx in kf.split(data2, y_data):\n",
    "        x_train = data2.iloc[trainidx]\n",
    "        y_train = y_data.iloc[trainidx]\n",
    "        model = train(x_train, y_train)\n",
    "        x_test = data2.iloc[testidx]\n",
    "        y_test = y_data.iloc[testidx]\n",
    "        results = predict(x_test, model, partial(kde, 9))\n",
    "        predicted = [result[0] for result in results]\n",
    "        confusion_m, accuracy, f1 = evaluate(y_test.values, predicted,\n",
    "                                             positive=positive_label,\n",
    "                                             negative=negative_label)\n",
    "        sensitivity, specificity = sensitivity_specificity(confusion_m)\n",
    "        ave_acc = np.append(ave_acc, accuracy)\n",
    "        ave_f1 = np.append(ave_f1, f1)\n",
    "        ave_sensitivity = np.append(ave_sensitivity, sensitivity)\n",
    "        ave_specificity = np.append(ave_specificity, specificity)\n",
    "    print(f\"k fold validation, k={k}\")\n",
    "    print(f\"average accuracy: {ave_acc.mean()}\")\n",
    "    print(f\"average ave_f1: {ave_f1.mean()}\")\n",
    "    print(f\"average sensitivity: {sensitivity.mean()}\")\n",
    "    print(f\"average specificity: {specificity.mean()}\")\n",
    "    print()\n",
    "\n",
    "\n",
    "\n",
    "\n"
   ],
   "metadata": {
    "collapsed": false,
    "pycharm": {
     "name": "#%%\n"
    }
   }
  },
  {
   "cell_type": "markdown",
   "metadata": {
    "jupyter": {
     "outputs_hidden": true
    }
   },
   "source": [
    "Provide your text answer of 150-200 words in this cell."
   ]
  },
  {
   "cell_type": "markdown",
   "metadata": {},
   "source": [
    "### Q3 [4 marks]\n",
    "In `train()`, you are asked to treat the missing value of nominal attributes as a new category. There is another option (as suggested in Thu lecture in week 2): <u>ignoring the missing values</u>. \n",
    "Compare the two methods in both large and small datasets. Comment and explain your observations.\n",
    "You can extract the first 50 records to construct a small dataset.Use Gaussian Naive Bayes only for this question."
   ]
  },
  {
   "cell_type": "code",
   "execution_count": 507,
   "metadata": {},
   "outputs": [],
   "source": [
    "# Write additional code here, if necessary (you may insert additional code cells)"
   ]
  },
  {
   "cell_type": "markdown",
   "metadata": {},
   "source": [
    "Provide your text answer of 150-200 words in this cell."
   ]
  },
  {
   "cell_type": "markdown",
   "metadata": {},
   "source": [
    "### Q4 [4 marks]\n",
    "In week 4, we have learned how to obtain information gain (IG) and gain ratio (GR) to choose an attribute to split a node in a decision tree. We will see how to apply them in the Naive Bayes classification.\n",
    "\n",
    "(a) Compute the GR of each attribute $X_i$, relative to the class distribution. In the Na\\\"ive Bayes classifier, remove attributes in the ascending order of GR: first, remove $P(X_i|c_j)$ such that $X_i$ has the least GR; second, remove $P(X_{i'}|c_j)$ such that $X_{i'}$ has the second least GR,......, until there is only one $X_{i*}$ with the largest GR remaining in the maximand $P(c_j) P(X_{i^*} | c_j)$. Observe the <u>change of the accuracy for both Gaussian and KDE</u> (Choose bandwidth $\\sigma=10$ for KDE).\n",
    "\n",
    "(b) Compute the IG between each pair of attributes. Describe and explain your observations. Choose an attribute and implement an estimator to predict the value of `education num`. Explain why you choose this attribute. Enumerate two other examples that an attribute can be used to estimate the other and explain the reason.  "
   ]
  },
  {
   "cell_type": "code",
   "execution_count": 508,
   "metadata": {},
   "outputs": [],
   "source": [
    "# Write additional code here, if necessary (you may insert additional code cells)"
   ]
  },
  {
   "cell_type": "markdown",
   "metadata": {},
   "source": [
    "### (a)"
   ]
  },
  {
   "cell_type": "markdown",
   "metadata": {},
   "source": [
    "Provide your text answer to **Question 4.a** of 100-150 words in this cell."
   ]
  },
  {
   "cell_type": "markdown",
   "metadata": {},
   "source": [
    "### (b)"
   ]
  },
  {
   "cell_type": "markdown",
   "metadata": {},
   "source": [
    "Provide your text answer to **Question 4.b** of 150-200 words in this cell."
   ]
  },
  {
   "cell_type": "markdown",
   "metadata": {},
   "source": [
    "<b>Authorship Declaration</b>:\n",
    "\n",
    "   (1) I certify that the program contained in this submission is completely\n",
    "   my own individual work, except where explicitly noted by comments that\n",
    "   provide details otherwise.  I understand that work that has been developed\n",
    "   by another student, or by me in collaboration with other students,\n",
    "   or by non-students as a result of request, solicitation, or payment,\n",
    "   may not be submitted for assessment in this subject.  I understand that\n",
    "   submitting for assessment work developed by or in collaboration with\n",
    "   other students or non-students constitutes Academic Misconduct, and\n",
    "   may be penalized by mark deductions, or by other penalties determined\n",
    "   via the University of Melbourne Academic Honesty Policy, as described\n",
    "   at https://academicintegrity.unimelb.edu.au.\n",
    "\n",
    "   (2) I also certify that I have not provided a copy of this work in either\n",
    "   softcopy or hardcopy or any other form to any other student, and nor will\n",
    "   I do so until after the marks are released. I understand that providing\n",
    "   my work to other students, regardless of my intention or any undertakings\n",
    "   made to me by that other student, is also Academic Misconduct.\n",
    "\n",
    "   (3) I further understand that providing a copy of the assignment\n",
    "   specification to any form of code authoring or assignment tutoring\n",
    "   service, or drawing the attention of others to such services and code\n",
    "   that may have been made available via such a service, may be regarded\n",
    "   as Student General Misconduct (interfering with the teaching activities\n",
    "   of the University and/or inciting others to commit Academic Misconduct).\n",
    "   I understand that an allegation of Student General Misconduct may arise\n",
    "   regardless of whether or not I personally make use of such solutions\n",
    "   or sought benefit from such actions.\n",
    "\n",
    "   <b>Signed by</b>: [Enter your full name and student number here before submission]\n",
    "   \n",
    "   <b>Dated</b>: [Enter the date that you \"signed\" the declaration]"
   ]
  }
 ],
 "metadata": {
  "kernelspec": {
   "display_name": "Python 3 (ipykernel)",
   "language": "python",
   "name": "python3"
  },
  "language_info": {
   "codemirror_mode": {
    "name": "ipython",
    "version": 3
   },
   "file_extension": ".py",
   "mimetype": "text/x-python",
   "name": "python",
   "nbconvert_exporter": "python",
   "pygments_lexer": "ipython3",
   "version": "3.9.7"
  }
 },
 "nbformat": 4,
 "nbformat_minor": 4
}